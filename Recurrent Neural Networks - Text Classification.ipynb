{
 "cells": [
  {
   "cell_type": "code",
   "execution_count": 184,
   "metadata": {},
   "outputs": [],
   "source": [
    "import tensorflow as tf\n",
    "import tflearn\n",
    "from tflearn.data_utils import to_categorical, pad_sequences\n",
    "from tflearn.datasets import imdb\n",
    "\n",
    "import pandas as pd\n",
    "import numpy as np\n",
    "\n",
    "%matplotlib inline"
   ]
  },
  {
   "cell_type": "code",
   "execution_count": 185,
   "metadata": {
    "collapsed": true
   },
   "outputs": [],
   "source": [
    "data = pd.read_csv(\"bf_classify_v5.csv\")\n",
    "\n",
    "labels = []\n",
    "for _,row in data.iterrows():\n",
    "    if row['score']  > 0 :\n",
    "        labels.append('Tip')\n",
    "    elif row['score']  < 0:\n",
    "        labels.append('notTip')\n",
    "    else:\n",
    "        labels.append('Unknown')\n"
   ]
  },
  {
   "cell_type": "code",
   "execution_count": 186,
   "metadata": {},
   "outputs": [
    {
     "data": {
      "text/plain": [
       "Index(['CPSC.Case..', 'trmt_date', 'psu', 'weight', 'stratum', 'age', 'sex',\n",
       "       'race', 'race_other', 'diag', 'diag_other', 'body_part', 'disposition',\n",
       "       'location', 'fmv', 'prod1', 'prod2', 'narr1', 'narr2', 'Narra', 'year',\n",
       "       'score', 'label'],\n",
       "      dtype='object')"
      ]
     },
     "execution_count": 186,
     "metadata": {},
     "output_type": "execute_result"
    }
   ],
   "source": [
    "data['label'] = labels\n",
    "data.columns"
   ]
  },
  {
   "cell_type": "code",
   "execution_count": 187,
   "metadata": {},
   "outputs": [
    {
     "data": {
      "text/plain": [
       "<matplotlib.axes._subplots.AxesSubplot at 0x3472356e80>"
      ]
     },
     "execution_count": 187,
     "metadata": {},
     "output_type": "execute_result"
    },
    {
     "data": {
      "image/png": "[encoded data removed]",
      "text/plain": [
       "<matplotlib.figure.Figure at 0x3472450ac8>"
      ]
     },
     "metadata": {},
     "output_type": "display_data"
    }
   ],
   "source": [
    "data.label.value_counts().plot(kind='bar')"
   ]
  },
  {
   "cell_type": "code",
   "execution_count": 188,
   "metadata": {},
   "outputs": [
    {
     "data": {
      "text/plain": [
       "notTip     7593\n",
       "Unknown    4269\n",
       "Tip        2001\n",
       "Name: label, dtype: int64"
      ]
     },
     "execution_count": 188,
     "metadata": {},
     "output_type": "execute_result"
    }
   ],
   "source": [
    "data.label.value_counts()"
   ]
  },
  {
   "cell_type": "code",
   "execution_count": 189,
   "metadata": {
    "collapsed": true
   },
   "outputs": [],
   "source": [
    "from string import punctuation\n",
    "import re\n",
    "\n",
    "incidents = []\n",
    "\n",
    "regex = re.compile('[%s]' % re.escape(punctuation))\n",
    "\n",
    "for index, row in data.iterrows():\n",
    "    out = regex.sub(' ', row['Narra'])\n",
    "    incidents.append(out)\n"
   ]
  },
  {
   "cell_type": "code",
   "execution_count": 190,
   "metadata": {},
   "outputs": [
    {
     "data": {
      "text/plain": [
       "array(['28 YOM FELT SNAP IN WRIST WHILE LIFTING ARMOIREWRIST SPRAIN',\n",
       "       '40 YOM WAS MOVING ARMOIRE DOWNSTAIRS WHEN ARMOIRE SLIPPED AND PINNEDPT AGAINST THE WALL  DX RIB FX',\n",
       "       '2 YOF INJURED HEAD AND TOOTH FROM ARMOIRE FALLING ON HER  DX CLOSED HEAD INJURY',\n",
       "       '3YOF CLIMBING ON DRESSER ARMOIRE',\n",
       "       'DX THUMB PN  23YOF MOVING ARMOIRE INTO HOME'], \n",
       "      dtype='<U98')"
      ]
     },
     "execution_count": 190,
     "metadata": {},
     "output_type": "execute_result"
    }
   ],
   "source": [
    "np.array(incidents[0:5])"
   ]
  },
  {
   "cell_type": "code",
   "execution_count": 191,
   "metadata": {},
   "outputs": [
    {
     "name": "stdout",
     "output_type": "stream",
     "text": [
      "Total words in data set:  6174\n"
     ]
    }
   ],
   "source": [
    "from collections import Counter\n",
    "\n",
    "total_counts = Counter()\n",
    "\n",
    "for row in incidents:\n",
    "        total_counts.update(row.split(\" \"))\n",
    "\n",
    "print(\"Total words in data set: \", len(total_counts))"
   ]
  },
  {
   "cell_type": "code",
   "execution_count": 192,
   "metadata": {},
   "outputs": [
    {
     "name": "stdout",
     "output_type": "stream",
     "text": [
      "['', 'DRESSER', 'ON', 'FELL', 'A', 'AND', 'HEAD', 'DX', 'HIT', 'OF', 'TO', 'CHEST', 'HOME', 'AT', 'BED', 'CONTUSION', 'THE', 'PAIN', 'LAC', 'LACERATION', 'YOF', 'WAS', 'HITTING', 'YOM', 'PT', 'YO', 'WHEN', 'BACK', 'FACE', 'MOVING', 'FOOT', 'OFF', 'INJURY', 'O', 'INTO', 'HER', 'TOE', 'AGAINST', 'HAND', 'IN', 'SCALP', 'F', 'OUT', 'STRUCK', 'WITH', 'M', 'ONTO', 'FX', 'FOREHEAD', 'DRAWER', 'WHILE', 'AFTER', 'MALE', 'YR', 'FROM', 'CORNER', 'TRIPPED', 'FEMALE', '2', 'OLD']\n"
     ]
    }
   ],
   "source": [
    "vocab = sorted(total_counts, key=total_counts.get, reverse=True)[:10000]\n",
    "print(vocab[:60])"
   ]
  },
  {
   "cell_type": "code",
   "execution_count": 193,
   "metadata": {},
   "outputs": [
    {
     "data": {
      "text/plain": [
       "[('', 0),\n",
       " ('AREA', 239),\n",
       " ('DIP', 2984),\n",
       " ('22YF', 2141),\n",
       " ('THROUGH', 637),\n",
       " ('HEARING', 1757),\n",
       " ('PICKINGUP', 2138),\n",
       " ('DVD', 1264),\n",
       " ('ANDIT', 5518),\n",
       " ('ANDDEVELOPED', 2987),\n",
       " ('RUSTY', 2139),\n",
       " ('PLUGGING', 2988),\n",
       " ('SHLDR', 1356),\n",
       " ('BEAME', 2989),\n",
       " ('FINGERS', 892),\n",
       " ('REDNESS', 1265),\n",
       " ('PNEUMOMEDIASTINUM', 2990),\n",
       " ('COT', 2140),\n",
       " ('BURSITIS', 2985),\n",
       " ('BEHINDTHE', 2991)]"
      ]
     },
     "execution_count": 193,
     "metadata": {},
     "output_type": "execute_result"
    }
   ],
   "source": [
    "word2idx = {word: i for i, word in enumerate(vocab)}\n",
    "list(word2idx.items())[0:20]"
   ]
  },
  {
   "cell_type": "code",
   "execution_count": 194,
   "metadata": {
    "collapsed": true
   },
   "outputs": [],
   "source": [
    "def text_to_index(text):\n",
    "    word_vector= []\n",
    "    \n",
    "    for word in text.split(' '):\n",
    "        idx = word2idx.get(word,None)\n",
    "        word_vector.append(idx)\n",
    "    return word_vector"
   ]
  },
  {
   "cell_type": "code",
   "execution_count": 195,
   "metadata": {},
   "outputs": [
    {
     "data": {
      "text/plain": [
       "[316, 23, 193, 1797, 39, 103, 50, 102, 5021, 107]"
      ]
     },
     "execution_count": 195,
     "metadata": {},
     "output_type": "execute_result"
    }
   ],
   "source": [
    "text_to_index(\"28 YOM FELT SNAP IN WRIST WHILE LIFTING ARMOIREWRIST SPRAIN\")"
   ]
  },
  {
   "cell_type": "code",
   "execution_count": 196,
   "metadata": {},
   "outputs": [
    {
     "data": {
      "text/plain": [
       "[168, 87, 2, 1, 296]"
      ]
     },
     "execution_count": 196,
     "metadata": {},
     "output_type": "execute_result"
    }
   ],
   "source": [
    "text_to_index(\"3YOF CLIMBING ON DRESSER ARMOIRE\")"
   ]
  },
  {
   "cell_type": "code",
   "execution_count": 197,
   "metadata": {
    "collapsed": true
   },
   "outputs": [],
   "source": [
    "incidentsIdx = []\n",
    "\n",
    "for row in incidents:\n",
    "        incidentsIdx.append(text_to_index(row))"
   ]
  },
  {
   "cell_type": "code",
   "execution_count": null,
   "metadata": {
    "collapsed": true
   },
   "outputs": [],
   "source": []
  },
  {
   "cell_type": "code",
   "execution_count": 198,
   "metadata": {},
   "outputs": [
    {
     "data": {
      "image/png": "[encoded data removed]",
      "text/plain": [
       "<matplotlib.figure.Figure at 0x3405897c50>"
      ]
     },
     "metadata": {},
     "output_type": "display_data"
    }
   ],
   "source": [
    "len_indx = []\n",
    "for row in incidentsIdx:\n",
    "    len_indx.append(len(row))\n",
    "\n",
    "from matplotlib import pyplot as plt\n",
    "plt.hist(len_indx, bins=20,)\n",
    "plt.show()"
   ]
  },
  {
   "cell_type": "code",
   "execution_count": 199,
   "metadata": {
    "collapsed": true
   },
   "outputs": [],
   "source": [
    "unknownIdx = []\n",
    "train = []\n",
    "target = []\n",
    "for x, y in zip(incidentsIdx, labels):\n",
    "    if(y == 'Unknown'):\n",
    "        unknownIdx.append(x)\n",
    "    else:\n",
    "        train.append(x)\n",
    "        target.append(y)    "
   ]
  },
  {
   "cell_type": "code",
   "execution_count": null,
   "metadata": {
    "collapsed": true
   },
   "outputs": [],
   "source": []
  },
  {
   "cell_type": "code",
   "execution_count": 200,
   "metadata": {
    "collapsed": true
   },
   "outputs": [],
   "source": [
    "Y = list([1 if each == 'Tip' else 0 for each in target])"
   ]
  },
  {
   "cell_type": "code",
   "execution_count": 201,
   "metadata": {},
   "outputs": [
    {
     "data": {
      "text/plain": [
       "9594"
      ]
     },
     "execution_count": 201,
     "metadata": {},
     "output_type": "execute_result"
    }
   ],
   "source": [
    "len(Y)"
   ]
  },
  {
   "cell_type": "code",
   "execution_count": 202,
   "metadata": {},
   "outputs": [
    {
     "data": {
      "text/plain": [
       "9594"
      ]
     },
     "execution_count": 202,
     "metadata": {},
     "output_type": "execute_result"
    }
   ],
   "source": [
    "len(train)"
   ]
  },
  {
   "cell_type": "code",
   "execution_count": 203,
   "metadata": {
    "collapsed": true
   },
   "outputs": [],
   "source": [
    "from sklearn.model_selection import train_test_split\n",
    "\n",
    "trainX,testX,trainY,testY = train_test_split(train, Y, test_size=0.2, random_state=42)"
   ]
  },
  {
   "cell_type": "code",
   "execution_count": null,
   "metadata": {},
   "outputs": [],
   "source": []
  },
  {
   "cell_type": "code",
   "execution_count": 204,
   "metadata": {
    "collapsed": true
   },
   "outputs": [],
   "source": [
    "# Data preprocessing\n",
    "# Sequence padding\n",
    "trainX = pad_sequences(trainX, maxlen=40, value=0.)\n",
    "testX = pad_sequences(testX, maxlen=40, value=0.)\n",
    "# Converting labels to binary vectors\n",
    "trainY = to_categorical(trainY, nb_classes=2)\n",
    "testY = to_categorical(testY, nb_classes=2)"
   ]
  },
  {
   "cell_type": "markdown",
   "metadata": {},
   "source": [
    "# RNN\n",
    "# Network building\n",
    ">net = tflearn.input_data([None, 30])\n",
    "\n",
    ">net = tflearn.embedding(net, input_dim=10000, output_dim=128)\n",
    "\n",
    ">net = tflearn.lstm(net, 64, dropout=0.8)\n",
    "\n",
    ">net = tflearn.fully_connected(net, 2, activation='softmax')\n",
    "\n",
    ">net = tflearn.regression(net, optimizer='adam', learning_rate=0.001,\n",
    "                         loss='categorical_crossentropy')"
   ]
  },
  {
   "cell_type": "code",
   "execution_count": 205,
   "metadata": {
    "collapsed": true
   },
   "outputs": [],
   "source": [
    "# Network building\n",
    "\n",
    "tf.reset_default_graph()\n",
    "\n",
    "net = tflearn.input_data([None, 40])\n",
    "net = tflearn.embedding(net, input_dim=10000, output_dim=128)\n",
    "net = tflearn.lstm(net, 64, dropout=0.8)\n",
    "net = tflearn.fully_connected(net, 2, activation='softmax')\n",
    "net = tflearn.regression(net, optimizer='adam', learning_rate=0.001,\n",
    "                         loss='categorical_crossentropy')"
   ]
  },
  {
   "cell_type": "code",
   "execution_count": 206,
   "metadata": {},
   "outputs": [
    {
     "name": "stdout",
     "output_type": "stream",
     "text": [
      "Training Step: 2399  | total loss: \u001b[1m\u001b[32m0.04217\u001b[0m\u001b[0m | time: 15.877s\n",
      "| Adam | epoch: 010 | loss: 0.04217 - acc: 0.9882 -- iter: 7648/7675\n",
      "Training Step: 2400  | total loss: \u001b[1m\u001b[32m0.03866\u001b[0m\u001b[0m | time: 16.958s\n",
      "| Adam | epoch: 010 | loss: 0.03866 - acc: 0.9894 | val_loss: 0.20475 - val_acc: 0.9489 -- iter: 7675/7675\n",
      "--\n"
     ]
    }
   ],
   "source": [
    "# Training\n",
    "model = tflearn.DNN(net, tensorboard_verbose=0)\n",
    "model.fit(trainX, trainY, validation_set=(testX, testY), show_metric=True,\n",
    "          batch_size=32, n_epoch=10)"
   ]
  },
  {
   "cell_type": "code",
   "execution_count": 207,
   "metadata": {},
   "outputs": [
    {
     "name": "stdout",
     "output_type": "stream",
     "text": [
      "Test accuracy:  0.948931735279\n"
     ]
    }
   ],
   "source": [
    "predictions = (np.array(model.predict(testX))[:,0] >= 0.5).astype(np.int_)\n",
    "test_accuracy = np.mean(predictions == testY[:,0], axis=0)\n",
    "print(\"Test accuracy: \", test_accuracy)"
   ]
  },
  {
   "cell_type": "code",
   "execution_count": 208,
   "metadata": {},
   "outputs": [
    {
     "data": {
      "text/plain": [
       "array([[ 341,   54],\n",
       "       [  44, 1480]])"
      ]
     },
     "execution_count": 208,
     "metadata": {},
     "output_type": "execute_result"
    }
   ],
   "source": [
    "from sklearn.metrics import confusion_matrix\n",
    "cm = confusion_matrix(predictions, testY[:,0], labels = [0,1])\n",
    "cm"
   ]
  },
  {
   "cell_type": "code",
   "execution_count": 209,
   "metadata": {},
   "outputs": [
    {
     "name": "stdout",
     "output_type": "stream",
     "text": [
      "0.863291139241\n",
      "0.971128608924\n"
     ]
    }
   ],
   "source": [
    "tp = float(cm[0][0])/np.sum(cm[0])\n",
    "tn = float(cm[1][1])/np.sum(cm[1])\n",
    "\n",
    "print(tp)\n",
    "print(tn)\n",
    "\n"
   ]
  },
  {
   "cell_type": "markdown",
   "metadata": {},
   "source": [
    "# Try My Own Sentense!"
   ]
  },
  {
   "cell_type": "code",
   "execution_count": 210,
   "metadata": {
    "collapsed": true
   },
   "outputs": [],
   "source": [
    "# Helper function that uses your model to predict sentiment\n",
    "def test_sentence(sentence):\n",
    "    positive_prob = model.predict(pad_sequences([text_to_index(sentence)], maxlen=40, value=0.))[0][1]\n",
    "    print('Sentence: {}'.format(sentence))\n",
    "    print('P(positive) = {:.3f} :'.format(positive_prob), \n",
    "          'Tip' if positive_prob > 0.5 else 'Not tip')"
   ]
  },
  {
   "cell_type": "code",
   "execution_count": 211,
   "metadata": {},
   "outputs": [
    {
     "name": "stdout",
     "output_type": "stream",
     "text": [
      "Sentence: 2 YO FEMALE SHUT FINGER IN A BUREAU  DX FINGER LACERATION\n",
      "P(positive) = 0.004 : Not tip\n"
     ]
    }
   ],
   "source": [
    "sentence = \"2 YO FEMALE SHUT FINGER IN A BUREAU  DX FINGER LACERATION\"\n",
    "test_sentence(sentence)"
   ]
  },
  {
   "cell_type": "code",
   "execution_count": 212,
   "metadata": {},
   "outputs": [
    {
     "name": "stdout",
     "output_type": "stream",
     "text": [
      "Sentence: 39 Y O M LACERATED FACE WHEN HE STRUCK A BUREAU WHILE SLEEP WALKING\n",
      "P(positive) = 0.002 : Not tip\n"
     ]
    }
   ],
   "source": [
    "sentence = \"39 Y O M LACERATED FACE WHEN HE STRUCK A BUREAU WHILE SLEEP WALKING\"\n",
    "test_sentence(sentence)"
   ]
  },
  {
   "cell_type": "code",
   "execution_count": 213,
   "metadata": {},
   "outputs": [
    {
     "name": "stdout",
     "output_type": "stream",
     "text": [
      "Sentence: 10YOM FELL INTO DRESSOR\n",
      "P(positive) = 0.004 : Not tip\n"
     ]
    }
   ],
   "source": [
    "sentence = \"10YOM FELL INTO DRESSOR\"\n",
    "test_sentence(sentence)"
   ]
  },
  {
   "cell_type": "code",
   "execution_count": 214,
   "metadata": {},
   "outputs": [
    {
     "name": "stdout",
     "output_type": "stream",
     "text": [
      "Sentence: DRESSER FELL ON TO 3YOM\n",
      "P(positive) = 0.946 : Tip\n"
     ]
    }
   ],
   "source": [
    "sentence = \"DRESSER FELL ON TO 3YOM\"\n",
    "test_sentence(sentence)"
   ]
  },
  {
   "cell_type": "code",
   "execution_count": null,
   "metadata": {
    "collapsed": true
   },
   "outputs": [],
   "source": []
  },
  {
   "cell_type": "markdown",
   "metadata": {},
   "source": [
    "# Apply to Unknown"
   ]
  },
  {
   "cell_type": "code",
   "execution_count": 215,
   "metadata": {},
   "outputs": [],
   "source": [
    "positive_prob = []\n",
    "predicted_label = []\n",
    "for i in unknownIdx:\n",
    "    prob = model.predict(pad_sequences([i], maxlen=40, value=0.))[0][1]\n",
    "    positive_prob.append(prob) \n",
    "    predicted_label.append('Tip over' if prob > 0.5 else 'Not tip over')"
   ]
  },
  {
   "cell_type": "code",
   "execution_count": 216,
   "metadata": {},
   "outputs": [],
   "source": [
    "df_result = pd.DataFrame({\n",
    "                'tipover prob': positive_prob,\n",
    "                'predicted label': predicted_label,\n",
    "                'unknownIdx': unknownIdx\n",
    "             })"
   ]
  },
  {
   "cell_type": "code",
   "execution_count": 218,
   "metadata": {},
   "outputs": [],
   "source": [
    "df_result.to_csv(\"result.csv\")"
   ]
  },
  {
   "cell_type": "code",
   "execution_count": 68,
   "metadata": {},
   "outputs": [],
   "source": []
  },
  {
   "cell_type": "code",
   "execution_count": null,
   "metadata": {
    "collapsed": true
   },
   "outputs": [],
   "source": []
  }
 ],
 "metadata": {
  "kernelspec": {
   "display_name": "Python 3",
   "language": "python",
   "name": "python3"
  },
  "language_info": {
   "codemirror_mode": {
    "name": "ipython",
    "version": 3
   },
   "file_extension": ".py",
   "mimetype": "text/x-python",
   "name": "python",
   "nbconvert_exporter": "python",
   "pygments_lexer": "ipython3",
   "version": "3.5.3"
  }
 },
 "nbformat": 4,
 "nbformat_minor": 2
}
