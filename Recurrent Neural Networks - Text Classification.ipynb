{
 "cells": [
  {
   "cell_type": "code",
   "execution_count": 38,
   "metadata": {},
   "outputs": [],
   "source": [
    "import tensorflow as tf\n",
    "import tflearn\n",
    "from tflearn.data_utils import to_categorical, pad_sequences\n",
    "from tflearn.datasets import imdb\n",
    "\n",
    "import pandas as pd\n",
    "import numpy as np\n",
    "\n",
    "%matplotlib inline"
   ]
  },
  {
   "cell_type": "code",
   "execution_count": 39,
   "metadata": {
    "collapsed": true
   },
   "outputs": [],
   "source": [
    "data = pd.read_csv(\"asset/bf_classify_v5.csv\")\n",
    "\n",
    "labels = []\n",
    "for _,row in data.iterrows():\n",
    "    if row['score']  > 0 :\n",
    "        labels.append('Tip')\n",
    "    elif row['score']  < 0:\n",
    "        labels.append('notTip')\n",
    "    else:\n",
    "        labels.append('Unknown')\n"
   ]
  },
  {
   "cell_type": "code",
   "execution_count": 40,
   "metadata": {},
   "outputs": [
    {
     "data": {
      "text/plain": [
       "Index(['Unnamed: 0', 'CPSC.Case..', 'trmt_date', 'psu', 'weight', 'stratum',\n",
       "       'age', 'sex', 'race', 'race_other', 'diag', 'diag_other', 'body_part',\n",
       "       'disposition', 'location', 'fmv', 'prod1', 'prod2', 'narr1', 'narr2',\n",
       "       'Narra', 'year', 'inc', 'score', 'label'],\n",
       "      dtype='object')"
      ]
     },
     "execution_count": 40,
     "metadata": {},
     "output_type": "execute_result"
    }
   ],
   "source": [
    "data['label'] = labels\n",
    "data.columns"
   ]
  },
  {
   "cell_type": "code",
   "execution_count": 41,
   "metadata": {},
   "outputs": [
    {
     "data": {
      "text/plain": [
       "<matplotlib.axes._subplots.AxesSubplot at 0xaf2c5b3438>"
      ]
     },
     "execution_count": 41,
     "metadata": {},
     "output_type": "execute_result"
    },
    {
     "data": {
      "image/png": "[encoded data removed]",
      "text/plain": [
       "<matplotlib.figure.Figure at 0xaf2c3d9668>"
      ]
     },
     "metadata": {},
     "output_type": "display_data"
    }
   ],
   "source": [
    "data.label.value_counts().plot(kind='bar')"
   ]
  },
  {
   "cell_type": "code",
   "execution_count": 42,
   "metadata": {},
   "outputs": [
    {
     "data": {
      "text/plain": [
       "notTip     7255\n",
       "Unknown    4148\n",
       "Tip        1923\n",
       "Name: label, dtype: int64"
      ]
     },
     "execution_count": 42,
     "metadata": {},
     "output_type": "execute_result"
    }
   ],
   "source": [
    "data.label.value_counts()"
   ]
  },
  {
   "cell_type": "code",
   "execution_count": 43,
   "metadata": {
    "collapsed": true
   },
   "outputs": [],
   "source": [
    "from string import punctuation\n",
    "import re\n",
    "\n",
    "incidents = []\n",
    "\n",
    "regex = re.compile('[%s]' % re.escape(punctuation))\n",
    "\n",
    "for index, row in data.iterrows():\n",
    "    out = regex.sub(' ', row['Narra'])\n",
    "    incidents.append(out)\n"
   ]
  },
  {
   "cell_type": "code",
   "execution_count": 44,
   "metadata": {},
   "outputs": [
    {
     "data": {
      "text/plain": [
       "array([ '8YOM PULLED A 36IN TV DOWN ONTO SELF OFF DRESSER   STRUCK ON SHOULDER JAW',\n",
       "       '52 Y O M   DRESSER FELL ON FOOT   DX CONTUSION OF FOOT',\n",
       "       '13 YR F STUBBED TOE ON DRESSER DX CONTUSED TOE',\n",
       "       '4 YO FEMALE HIT NECK ON DRESSER   DX CONTUSION',\n",
       "       '31YOF WAS HELPING SOMEONE MOVE AND CAUGHT LEFT HAND BETWEEN A TRUCKAND A CHEST'], \n",
       "      dtype='<U78')"
      ]
     },
     "execution_count": 44,
     "metadata": {},
     "output_type": "execute_result"
    }
   ],
   "source": [
    "np.array(incidents[0:5])"
   ]
  },
  {
   "cell_type": "code",
   "execution_count": 45,
   "metadata": {},
   "outputs": [
    {
     "name": "stdout",
     "output_type": "stream",
     "text": [
      "Total words in data set:  6162\n"
     ]
    }
   ],
   "source": [
    "from collections import Counter\n",
    "\n",
    "total_counts = Counter()\n",
    "\n",
    "for row in incidents:\n",
    "        total_counts.update(row.split(\" \"))\n",
    "\n",
    "print(\"Total words in data set: \", len(total_counts))"
   ]
  },
  {
   "cell_type": "code",
   "execution_count": 46,
   "metadata": {},
   "outputs": [
    {
     "name": "stdout",
     "output_type": "stream",
     "text": [
      "['', 'DRESSER', 'ON', 'FELL', 'A', 'AND', 'HEAD', 'DX', 'HIT', 'OF', 'TO', 'HOME', 'AT', 'CHEST', 'BED', 'LAC', 'THE', 'PAIN', 'CONTUSION', 'LACERATION', 'YOF', 'WAS', 'HITTING', 'YOM', 'PT', 'YO', 'BACK', 'FACE', 'WHEN', 'MOVING', 'FOOT', 'OFF', 'INJURY', 'O', 'INTO', 'HER', 'TOE', 'HAND', 'IN', 'SCALP', 'AGAINST', 'F', 'OUT', 'STRUCK', 'WITH', 'M', 'ONTO', 'FX', 'FOREHEAD', 'DRAWER', 'WHILE', 'AFTER', 'MALE', 'YR', 'FROM', 'FEMALE', '2', 'TRIPPED', 'CORNER', 'OLD']\n"
     ]
    }
   ],
   "source": [
    "vocab = sorted(total_counts, key=total_counts.get, reverse=True)[:10000]\n",
    "print(vocab[:60])"
   ]
  },
  {
   "cell_type": "code",
   "execution_count": 47,
   "metadata": {},
   "outputs": [
    {
     "data": {
      "text/plain": [
       "[('', 0),\n",
       " ('CONRER', 2063),\n",
       " ('ALVUSION', 2828),\n",
       " ('BATHROOMLANDED', 2829),\n",
       " ('RTLEG', 2830),\n",
       " ('STRKE', 3497),\n",
       " ('53YOF', 458),\n",
       " ('TOPROSIMALL', 2832),\n",
       " ('87Y', 2833),\n",
       " ('LUMBER', 2865),\n",
       " ('8MF', 2835),\n",
       " ('HIPFRACTURE', 2836),\n",
       " ('PAINTED', 2837),\n",
       " ('SUBSTERNAL', 2838),\n",
       " ('SLIPPEDOFF', 2068),\n",
       " ('ANKLE', 126),\n",
       " ('GINGIVA', 2839),\n",
       " ('TODAY7', 2840),\n",
       " ('FATHER', 872),\n",
       " ('HANDDX', 766)]"
      ]
     },
     "execution_count": 47,
     "metadata": {},
     "output_type": "execute_result"
    }
   ],
   "source": [
    "word2idx = {word: i for i, word in enumerate(vocab)}\n",
    "list(word2idx.items())[0:20]"
   ]
  },
  {
   "cell_type": "code",
   "execution_count": 48,
   "metadata": {
    "collapsed": true
   },
   "outputs": [],
   "source": [
    "def text_to_index(text):\n",
    "    word_vector= []\n",
    "    \n",
    "    for word in text.split(' '):\n",
    "        idx = word2idx.get(word, 6174 )\n",
    "        word_vector.append(idx)\n",
    "    return word_vector"
   ]
  },
  {
   "cell_type": "code",
   "execution_count": 49,
   "metadata": {},
   "outputs": [
    {
     "data": {
      "text/plain": [
       "[319, 23, 197, 1750, 38, 99, 50, 100, 4412, 106]"
      ]
     },
     "execution_count": 49,
     "metadata": {},
     "output_type": "execute_result"
    }
   ],
   "source": [
    "text_to_index(\"28 YOM FELT SNAP IN WRIST WHILE LIFTING ARMOIREWRIST SPRAIN\")"
   ]
  },
  {
   "cell_type": "code",
   "execution_count": 50,
   "metadata": {},
   "outputs": [
    {
     "data": {
      "text/plain": [
       "[171, 86, 2, 1, 300]"
      ]
     },
     "execution_count": 50,
     "metadata": {},
     "output_type": "execute_result"
    }
   ],
   "source": [
    "text_to_index(\"3YOF CLIMBING ON DRESSER ARMOIRE\")"
   ]
  },
  {
   "cell_type": "code",
   "execution_count": 51,
   "metadata": {
    "collapsed": true
   },
   "outputs": [],
   "source": [
    "incidentsIdx = []\n",
    "\n",
    "for row in incidents:\n",
    "        incidentsIdx.append(text_to_index(row))"
   ]
  },
  {
   "cell_type": "code",
   "execution_count": null,
   "metadata": {
    "collapsed": true
   },
   "outputs": [],
   "source": []
  },
  {
   "cell_type": "code",
   "execution_count": 52,
   "metadata": {},
   "outputs": [
    {
     "data": {
      "image/png": "[encoded data removed]",
      "text/plain": [
       "<matplotlib.figure.Figure at 0xaf21518b70>"
      ]
     },
     "metadata": {},
     "output_type": "display_data"
    }
   ],
   "source": [
    "len_indx = []\n",
    "for row in incidentsIdx:\n",
    "    len_indx.append(len(row))\n",
    "\n",
    "from matplotlib import pyplot as plt\n",
    "plt.hist(len_indx, bins=20,)\n",
    "plt.show()"
   ]
  },
  {
   "cell_type": "code",
   "execution_count": 53,
   "metadata": {
    "collapsed": true
   },
   "outputs": [],
   "source": [
    "unknownIdx = []\n",
    "train = []\n",
    "target = []\n",
    "for x, y in zip(incidentsIdx, labels):\n",
    "    if(y == 'Unknown'):\n",
    "        unknownIdx.append(x)\n",
    "    else:\n",
    "        train.append(x)\n",
    "        target.append(y)    "
   ]
  },
  {
   "cell_type": "code",
   "execution_count": null,
   "metadata": {
    "collapsed": true
   },
   "outputs": [],
   "source": []
  },
  {
   "cell_type": "code",
   "execution_count": 54,
   "metadata": {
    "collapsed": true
   },
   "outputs": [],
   "source": [
    "Y = list([1 if each == 'Tip' else 0 for each in target])"
   ]
  },
  {
   "cell_type": "code",
   "execution_count": 55,
   "metadata": {},
   "outputs": [
    {
     "data": {
      "text/plain": [
       "9178"
      ]
     },
     "execution_count": 55,
     "metadata": {},
     "output_type": "execute_result"
    }
   ],
   "source": [
    "len(Y)"
   ]
  },
  {
   "cell_type": "code",
   "execution_count": 56,
   "metadata": {},
   "outputs": [
    {
     "data": {
      "text/plain": [
       "9178"
      ]
     },
     "execution_count": 56,
     "metadata": {},
     "output_type": "execute_result"
    }
   ],
   "source": [
    "len(train)"
   ]
  },
  {
   "cell_type": "code",
   "execution_count": 57,
   "metadata": {
    "collapsed": true
   },
   "outputs": [],
   "source": [
    "from sklearn.model_selection import train_test_split\n",
    "\n",
    "trainX,testX,trainY,testY = train_test_split(train, Y, test_size=0.2, random_state=42)"
   ]
  },
  {
   "cell_type": "code",
   "execution_count": 58,
   "metadata": {
    "collapsed": true
   },
   "outputs": [],
   "source": [
    "# Data preprocessing\n",
    "# Sequence padding\n",
    "trainX = pad_sequences(trainX, maxlen=40, value=0. , padding='pre')\n",
    "testX = pad_sequences(testX, maxlen=40, value=0., padding='pre')\n",
    "# Converting labels to binary vectors\n",
    "trainY = to_categorical(trainY, nb_classes=2)\n",
    "testY = to_categorical(testY, nb_classes=2)"
   ]
  },
  {
   "cell_type": "markdown",
   "metadata": {},
   "source": [
    "# RNN\n",
    "# Network building\n",
    ">net = tflearn.input_data([None, 30])\n",
    "\n",
    ">net = tflearn.embedding(net, input_dim=10000, output_dim=128)\n",
    "\n",
    ">net = tflearn.lstm(net, 64, dropout=0.8)\n",
    "\n",
    ">net = tflearn.fully_connected(net, 2, activation='softmax')\n",
    "\n",
    ">net = tflearn.regression(net, optimizer='adam', learning_rate=0.001,\n",
    "                         loss='categorical_crossentropy')"
   ]
  },
  {
   "cell_type": "code",
   "execution_count": 59,
   "metadata": {
    "collapsed": true
   },
   "outputs": [],
   "source": [
    "# Network building\n",
    "from tflearn.layers.recurrent import bidirectional_rnn, BasicLSTMCell\n",
    "from tflearn.layers.core import input_data, dropout, fully_connected\n",
    "\n",
    "tf.reset_default_graph()\n",
    "\n",
    "net = tflearn.input_data([None, 40])\n",
    "net = tflearn.embedding(net, input_dim=10000, output_dim=128)\n",
    "net = bidirectional_rnn(net, BasicLSTMCell(128), BasicLSTMCell(128))\n",
    "net = dropout(net, 0.5)\n",
    "#net = tflearn.lstm(net, 64, dropout=0.8)\n",
    "net = tflearn.fully_connected(net, 2, activation='softmax')\n",
    "net = tflearn.regression(net, optimizer='adam', learning_rate=0.001,\n",
    "                         loss='categorical_crossentropy')"
   ]
  },
  {
   "cell_type": "code",
   "execution_count": 60,
   "metadata": {},
   "outputs": [
    {
     "name": "stdout",
     "output_type": "stream",
     "text": [
      "Training Step: 2299  | total loss: \u001b[1m\u001b[32m0.02837\u001b[0m\u001b[0m | time: 48.674s\n",
      "| Adam | epoch: 010 | loss: 0.02837 - acc: 0.9953 -- iter: 7328/7342\n",
      "Training Step: 2300  | total loss: \u001b[1m\u001b[32m0.02576\u001b[0m\u001b[0m | time: 50.296s\n",
      "| Adam | epoch: 010 | loss: 0.02576 - acc: 0.9958 | val_loss: 0.19522 - val_acc: 0.9428 -- iter: 7342/7342\n",
      "--\n"
     ]
    }
   ],
   "source": [
    "# Training\n",
    "model = tflearn.DNN(net, tensorboard_verbose=2)\n",
    "model.fit(trainX, trainY, validation_set=(testX, testY), show_metric=True,\n",
    "          batch_size=32, n_epoch=10)"
   ]
  },
  {
   "cell_type": "code",
   "execution_count": 64,
   "metadata": {},
   "outputs": [
    {
     "name": "stdout",
     "output_type": "stream",
     "text": [
      "Test accuracy:  0.942810457516\n"
     ]
    }
   ],
   "source": [
    "predictions = (np.array(model.predict(testX))[:,0] >= 0.5).astype(np.int_)\n",
    "test_accuracy = np.mean(predictions == testY[:,0], axis=0)\n",
    "print(\"Test accuracy: \", test_accuracy)"
   ]
  },
  {
   "cell_type": "code",
   "execution_count": 65,
   "metadata": {},
   "outputs": [
    {
     "data": {
      "text/plain": [
       "array([[ 318,   73],\n",
       "       [  32, 1413]])"
      ]
     },
     "execution_count": 65,
     "metadata": {},
     "output_type": "execute_result"
    }
   ],
   "source": [
    "from sklearn.metrics import confusion_matrix\n",
    "cm = confusion_matrix(predictions, testY[:,0], labels = [0,1])\n",
    "cm"
   ]
  },
  {
   "cell_type": "code",
   "execution_count": 66,
   "metadata": {},
   "outputs": [
    {
     "name": "stdout",
     "output_type": "stream",
     "text": [
      "0.813299232737\n",
      "0.97785467128\n"
     ]
    }
   ],
   "source": [
    "tp = float(cm[0][0])/np.sum(cm[0])\n",
    "tn = float(cm[1][1])/np.sum(cm[1])\n",
    "\n",
    "print(tp)\n",
    "print(tn)\n",
    "\n"
   ]
  },
  {
   "cell_type": "markdown",
   "metadata": {},
   "source": [
    "# Try My Own Sentense!"
   ]
  },
  {
   "cell_type": "code",
   "execution_count": 79,
   "metadata": {
    "collapsed": true
   },
   "outputs": [],
   "source": [
    "# Helper function that uses your model to predict sentiment\n",
    "def predict_sentence(sentence):\n",
    "    positive_prob = model.predict(pad_sequences([text_to_index(sentence)], maxlen=40, value=0.))[0][1]\n",
    "    print('Sentence: {}'.format(sentence))\n",
    "    print('P(positive) = {:.3f} :'.format(positive_prob), \n",
    "          'Tip' if positive_prob > 0.5 else 'Not tip')"
   ]
  },
  {
   "cell_type": "code",
   "execution_count": 80,
   "metadata": {},
   "outputs": [
    {
     "name": "stdout",
     "output_type": "stream",
     "text": [
      "Sentence: 2 YO FEMALE SHUT FINGER IN A BUREAU  DX FINGER LACERATION\n",
      "P(positive) = 0.044 : Not tip\n"
     ]
    }
   ],
   "source": [
    "sentence = \"2 YO FEMALE SHUT FINGER IN A BUREAU  DX FINGER LACERATION\"\n",
    "predict_sentence(sentence)"
   ]
  },
  {
   "cell_type": "code",
   "execution_count": 81,
   "metadata": {},
   "outputs": [
    {
     "name": "stdout",
     "output_type": "stream",
     "text": [
      "Sentence: 39 Y O M LACERATED FACE WHEN HE STRUCK A BUREAU WHILE SLEEP WALKING\n",
      "P(positive) = 0.047 : Not tip\n"
     ]
    }
   ],
   "source": [
    "sentence = \"39 Y O M LACERATED FACE WHEN HE STRUCK A BUREAU WHILE SLEEP WALKING\"\n",
    "predict_sentence(sentence)"
   ]
  },
  {
   "cell_type": "code",
   "execution_count": 82,
   "metadata": {},
   "outputs": [
    {
     "name": "stdout",
     "output_type": "stream",
     "text": [
      "Sentence: 2 YOM DECEDENT HAD A 27 INCH TELEVISION FALL ON HIM FROM THE TOP OF A CHEST OF DRAWERS. \n",
      "P(positive) = 0.873 : Tip\n"
     ]
    }
   ],
   "source": [
    "sentence = \"2 YOM DECEDENT HAD A 27 INCH TELEVISION FALL ON HIM FROM THE TOP OF A CHEST OF DRAWERS. \"\n",
    "predict_sentence(sentence)"
   ]
  },
  {
   "cell_type": "code",
   "execution_count": 86,
   "metadata": {},
   "outputs": [
    {
     "name": "stdout",
     "output_type": "stream",
     "text": [
      "Sentence: PT PLAYING ON DRESSOR AND IT FELL ON HIM\n",
      "P(positive) = 0.038 : Not tip\n"
     ]
    }
   ],
   "source": [
    "sentence = \"PT PLAYING ON DRESSOR AND IT FELL ON HIM\"\n",
    "predict_sentence(sentence)"
   ]
  },
  {
   "cell_type": "code",
   "execution_count": 97,
   "metadata": {},
   "outputs": [
    {
     "name": "stdout",
     "output_type": "stream",
     "text": [
      "Sentence: 2 YOM CLIMBING ON DRESSOR AND IT TIPPED OVER\n",
      "P(positive) = 0.960 : Tip\n"
     ]
    }
   ],
   "source": [
    "sentence = \"2 YOM CLIMBING ON DRESSOR AND IT TIPPED OVER\"\n",
    "predict_sentence(sentence)"
   ]
  },
  {
   "cell_type": "code",
   "execution_count": 95,
   "metadata": {},
   "outputs": [
    {
     "name": "stdout",
     "output_type": "stream",
     "text": [
      "Sentence: HE FELL ON DRESSOR\n",
      "P(positive) = 0.039 : Not tip\n"
     ]
    }
   ],
   "source": [
    "sentence = \"HE FELL ON DRESSOR\"\n",
    "predict_sentence(sentence)"
   ]
  },
  {
   "cell_type": "code",
   "execution_count": 94,
   "metadata": {},
   "outputs": [
    {
     "name": "stdout",
     "output_type": "stream",
     "text": [
      "Sentence: DESSOR FELL ON HIM\n",
      "P(positive) = 0.813 : Tip\n"
     ]
    }
   ],
   "source": [
    "sentence = \"DESSOR FELL ON HIM\"\n",
    "predict_sentence(sentence)"
   ]
  },
  {
   "cell_type": "code",
   "execution_count": 104,
   "metadata": {},
   "outputs": [
    {
     "name": "stdout",
     "output_type": "stream",
     "text": [
      "Sentence: FEMALE TRIPPED A BUREAU AND TELEVISION FALL ON HER\n",
      "P(positive) = 0.043 : Not tip\n"
     ]
    }
   ],
   "source": [
    "sentence = \"FEMALE TRIPPED A BUREAU AND TELEVISION FALL ON HER\"\n",
    "predict_sentence(sentence)"
   ]
  },
  {
   "cell_type": "markdown",
   "metadata": {},
   "source": [
    "# Apply to Unknown"
   ]
  },
  {
   "cell_type": "code",
   "execution_count": 76,
   "metadata": {
    "collapsed": true
   },
   "outputs": [],
   "source": [
    "positive_prob = []\n",
    "predicted_label = []\n",
    "for i in unknownIdx:\n",
    "    prob = model.predict(pad_sequences([i], maxlen=40, value=0.))[0][1]\n",
    "    positive_prob.append(prob) \n",
    "    predicted_label.append('Tip over' if prob > 0.5 else 'Not tip over')"
   ]
  },
  {
   "cell_type": "code",
   "execution_count": 77,
   "metadata": {
    "collapsed": true
   },
   "outputs": [],
   "source": [
    "df_result = pd.DataFrame({\n",
    "                'tipover prob': positive_prob,\n",
    "                'predicted label': predicted_label,\n",
    "                'unknownIdx': unknownIdx\n",
    "             })"
   ]
  },
  {
   "cell_type": "code",
   "execution_count": 78,
   "metadata": {
    "collapsed": true
   },
   "outputs": [],
   "source": [
    "df_result.to_csv(\"result.csv\")"
   ]
  },
  {
   "cell_type": "code",
   "execution_count": 68,
   "metadata": {
    "collapsed": true
   },
   "outputs": [],
   "source": []
  },
  {
   "cell_type": "code",
   "execution_count": null,
   "metadata": {
    "collapsed": true
   },
   "outputs": [],
   "source": []
  }
 ],
 "metadata": {
  "kernelspec": {
   "display_name": "Python 3",
   "language": "python",
   "name": "python3"
  },
  "language_info": {
   "codemirror_mode": {
    "name": "ipython",
    "version": 3
   },
   "file_extension": ".py",
   "mimetype": "text/x-python",
   "name": "python",
   "nbconvert_exporter": "python",
   "pygments_lexer": "ipython3",
   "version": "3.5.3"
  }
 },
 "nbformat": 4,
 "nbformat_minor": 2
}
